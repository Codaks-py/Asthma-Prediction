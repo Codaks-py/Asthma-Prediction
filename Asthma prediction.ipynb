{
 "cells": [
  {
   "cell_type": "code",
   "execution_count": 1,
   "id": "d7c7b0ca",
   "metadata": {},
   "outputs": [],
   "source": [
    "import pandas as pd\n",
    "import matplotlib.pyplot as plt\n",
    "import seaborn as sns\n",
    "from math import *"
   ]
  },
  {
   "cell_type": "code",
   "execution_count": 2,
   "id": "0685cab8",
   "metadata": {},
   "outputs": [],
   "source": [
    "df = pd.read_csv('processed-data.csv')"
   ]
  },
  {
   "cell_type": "code",
   "execution_count": 3,
   "id": "49edcc0d",
   "metadata": {},
   "outputs": [
    {
     "data": {
      "text/plain": [
       "Tiredness                  0\n",
       "Dry-Cough                  0\n",
       "Difficulty-in-Breathing    0\n",
       "Sore-Throat                0\n",
       "None_Sympton               0\n",
       "Pains                      0\n",
       "Nasal-Congestion           0\n",
       "Runny-Nose                 0\n",
       "None_Experiencing          0\n",
       "Age_0-9                    0\n",
       "Age_10-19                  0\n",
       "Age_20-24                  0\n",
       "Age_25-59                  0\n",
       "Age_60+                    0\n",
       "Gender_Female              0\n",
       "Gender_Male                0\n",
       "Severity_Mild              0\n",
       "Severity_Moderate          0\n",
       "Severity_None              0\n",
       "dtype: int64"
      ]
     },
     "execution_count": 3,
     "metadata": {},
     "output_type": "execute_result"
    }
   ],
   "source": [
    "df.isna().sum()"
   ]
  },
  {
   "cell_type": "code",
   "execution_count": 4,
   "id": "85291ca1",
   "metadata": {},
   "outputs": [
    {
     "data": {
      "text/plain": [
       "(316800, 19)"
      ]
     },
     "execution_count": 4,
     "metadata": {},
     "output_type": "execute_result"
    }
   ],
   "source": [
    "df.shape"
   ]
  },
  {
   "cell_type": "code",
   "execution_count": 5,
   "id": "b172a172",
   "metadata": {},
   "outputs": [
    {
     "data": {
      "text/plain": [
       "Index(['Tiredness', 'Dry-Cough', 'Difficulty-in-Breathing', 'Sore-Throat',\n",
       "       'None_Sympton', 'Pains', 'Nasal-Congestion', 'Runny-Nose',\n",
       "       'None_Experiencing', 'Age_0-9', 'Age_10-19', 'Age_20-24', 'Age_25-59',\n",
       "       'Age_60+', 'Gender_Female', 'Gender_Male', 'Severity_Mild',\n",
       "       'Severity_Moderate', 'Severity_None'],\n",
       "      dtype='object')"
      ]
     },
     "execution_count": 5,
     "metadata": {},
     "output_type": "execute_result"
    }
   ],
   "source": [
    "df.columns"
   ]
  },
  {
   "cell_type": "code",
   "execution_count": 6,
   "id": "38a53dce",
   "metadata": {},
   "outputs": [],
   "source": [
    "from sklearn.model_selection import train_test_split"
   ]
  },
  {
   "cell_type": "code",
   "execution_count": 7,
   "id": "a699d3c5",
   "metadata": {},
   "outputs": [],
   "source": [
    "x =  df.drop(['Severity_Moderate', 'Severity_Mild', 'Severity_None'], axis = 1)\n",
    "y = df[[ 'Severity_None']]"
   ]
  },
  {
   "cell_type": "code",
   "execution_count": 8,
   "id": "1b69eb78",
   "metadata": {},
   "outputs": [],
   "source": [
    "x_train, x_test, y_train, y_test = train_test_split(x,y, test_size = 0.3)\n"
   ]
  },
  {
   "cell_type": "code",
   "execution_count": 9,
   "id": "8ce249e6",
   "metadata": {},
   "outputs": [
    {
     "data": {
      "text/html": [
       "<div>\n",
       "<style scoped>\n",
       "    .dataframe tbody tr th:only-of-type {\n",
       "        vertical-align: middle;\n",
       "    }\n",
       "\n",
       "    .dataframe tbody tr th {\n",
       "        vertical-align: top;\n",
       "    }\n",
       "\n",
       "    .dataframe thead th {\n",
       "        text-align: right;\n",
       "    }\n",
       "</style>\n",
       "<table border=\"1\" class=\"dataframe\">\n",
       "  <thead>\n",
       "    <tr style=\"text-align: right;\">\n",
       "      <th></th>\n",
       "      <th>Severity_None</th>\n",
       "    </tr>\n",
       "  </thead>\n",
       "  <tbody>\n",
       "    <tr>\n",
       "      <th>89666</th>\n",
       "      <td>0</td>\n",
       "    </tr>\n",
       "    <tr>\n",
       "      <th>313105</th>\n",
       "      <td>0</td>\n",
       "    </tr>\n",
       "    <tr>\n",
       "      <th>237282</th>\n",
       "      <td>0</td>\n",
       "    </tr>\n",
       "    <tr>\n",
       "      <th>159795</th>\n",
       "      <td>0</td>\n",
       "    </tr>\n",
       "    <tr>\n",
       "      <th>49403</th>\n",
       "      <td>1</td>\n",
       "    </tr>\n",
       "    <tr>\n",
       "      <th>...</th>\n",
       "      <td>...</td>\n",
       "    </tr>\n",
       "    <tr>\n",
       "      <th>9459</th>\n",
       "      <td>0</td>\n",
       "    </tr>\n",
       "    <tr>\n",
       "      <th>13804</th>\n",
       "      <td>0</td>\n",
       "    </tr>\n",
       "    <tr>\n",
       "      <th>53554</th>\n",
       "      <td>1</td>\n",
       "    </tr>\n",
       "    <tr>\n",
       "      <th>4127</th>\n",
       "      <td>1</td>\n",
       "    </tr>\n",
       "    <tr>\n",
       "      <th>218355</th>\n",
       "      <td>0</td>\n",
       "    </tr>\n",
       "  </tbody>\n",
       "</table>\n",
       "<p>95040 rows × 1 columns</p>\n",
       "</div>"
      ],
      "text/plain": [
       "        Severity_None\n",
       "89666               0\n",
       "313105              0\n",
       "237282              0\n",
       "159795              0\n",
       "49403               1\n",
       "...               ...\n",
       "9459                0\n",
       "13804               0\n",
       "53554               1\n",
       "4127                1\n",
       "218355              0\n",
       "\n",
       "[95040 rows x 1 columns]"
      ]
     },
     "execution_count": 9,
     "metadata": {},
     "output_type": "execute_result"
    }
   ],
   "source": [
    "y_test"
   ]
  },
  {
   "cell_type": "code",
   "execution_count": 10,
   "id": "4616013e",
   "metadata": {},
   "outputs": [
    {
     "data": {
      "text/html": [
       "<div>\n",
       "<style scoped>\n",
       "    .dataframe tbody tr th:only-of-type {\n",
       "        vertical-align: middle;\n",
       "    }\n",
       "\n",
       "    .dataframe tbody tr th {\n",
       "        vertical-align: top;\n",
       "    }\n",
       "\n",
       "    .dataframe thead th {\n",
       "        text-align: right;\n",
       "    }\n",
       "</style>\n",
       "<table border=\"1\" class=\"dataframe\">\n",
       "  <thead>\n",
       "    <tr style=\"text-align: right;\">\n",
       "      <th></th>\n",
       "      <th>Severity_None</th>\n",
       "    </tr>\n",
       "  </thead>\n",
       "  <tbody>\n",
       "    <tr>\n",
       "      <th>count</th>\n",
       "      <td>221760.000000</td>\n",
       "    </tr>\n",
       "    <tr>\n",
       "      <th>mean</th>\n",
       "      <td>0.250023</td>\n",
       "    </tr>\n",
       "    <tr>\n",
       "      <th>std</th>\n",
       "      <td>0.433027</td>\n",
       "    </tr>\n",
       "    <tr>\n",
       "      <th>min</th>\n",
       "      <td>0.000000</td>\n",
       "    </tr>\n",
       "    <tr>\n",
       "      <th>25%</th>\n",
       "      <td>0.000000</td>\n",
       "    </tr>\n",
       "    <tr>\n",
       "      <th>50%</th>\n",
       "      <td>0.000000</td>\n",
       "    </tr>\n",
       "    <tr>\n",
       "      <th>75%</th>\n",
       "      <td>1.000000</td>\n",
       "    </tr>\n",
       "    <tr>\n",
       "      <th>max</th>\n",
       "      <td>1.000000</td>\n",
       "    </tr>\n",
       "  </tbody>\n",
       "</table>\n",
       "</div>"
      ],
      "text/plain": [
       "       Severity_None\n",
       "count  221760.000000\n",
       "mean        0.250023\n",
       "std         0.433027\n",
       "min         0.000000\n",
       "25%         0.000000\n",
       "50%         0.000000\n",
       "75%         1.000000\n",
       "max         1.000000"
      ]
     },
     "execution_count": 10,
     "metadata": {},
     "output_type": "execute_result"
    }
   ],
   "source": [
    "y_train.describe()"
   ]
  },
  {
   "cell_type": "code",
   "execution_count": 11,
   "id": "81ad0248",
   "metadata": {},
   "outputs": [
    {
     "data": {
      "text/html": [
       "<div>\n",
       "<style scoped>\n",
       "    .dataframe tbody tr th:only-of-type {\n",
       "        vertical-align: middle;\n",
       "    }\n",
       "\n",
       "    .dataframe tbody tr th {\n",
       "        vertical-align: top;\n",
       "    }\n",
       "\n",
       "    .dataframe thead th {\n",
       "        text-align: right;\n",
       "    }\n",
       "</style>\n",
       "<table border=\"1\" class=\"dataframe\">\n",
       "  <thead>\n",
       "    <tr style=\"text-align: right;\">\n",
       "      <th></th>\n",
       "      <th>Tiredness</th>\n",
       "      <th>Dry-Cough</th>\n",
       "      <th>Difficulty-in-Breathing</th>\n",
       "      <th>Sore-Throat</th>\n",
       "      <th>None_Sympton</th>\n",
       "      <th>Pains</th>\n",
       "      <th>Nasal-Congestion</th>\n",
       "      <th>Runny-Nose</th>\n",
       "      <th>None_Experiencing</th>\n",
       "      <th>Age_0-9</th>\n",
       "      <th>Age_10-19</th>\n",
       "      <th>Age_20-24</th>\n",
       "      <th>Age_25-59</th>\n",
       "      <th>Age_60+</th>\n",
       "      <th>Gender_Female</th>\n",
       "      <th>Gender_Male</th>\n",
       "    </tr>\n",
       "  </thead>\n",
       "  <tbody>\n",
       "    <tr>\n",
       "      <th>Tiredness</th>\n",
       "      <td>1.000000</td>\n",
       "      <td>0.378374</td>\n",
       "      <td>-0.000218</td>\n",
       "      <td>-0.136407</td>\n",
       "      <td>-0.258212</td>\n",
       "      <td>0.001068</td>\n",
       "      <td>0.000285</td>\n",
       "      <td>-0.001085</td>\n",
       "      <td>0.001089</td>\n",
       "      <td>-0.001707</td>\n",
       "      <td>0.001051</td>\n",
       "      <td>0.000763</td>\n",
       "      <td>-0.000353</td>\n",
       "      <td>0.000245</td>\n",
       "      <td>-0.001154</td>\n",
       "      <td>0.000604</td>\n",
       "    </tr>\n",
       "    <tr>\n",
       "      <th>Dry-Cough</th>\n",
       "      <td>0.378374</td>\n",
       "      <td>1.000000</td>\n",
       "      <td>0.376820</td>\n",
       "      <td>0.049914</td>\n",
       "      <td>-0.292671</td>\n",
       "      <td>0.000772</td>\n",
       "      <td>0.000577</td>\n",
       "      <td>-0.000840</td>\n",
       "      <td>-0.001275</td>\n",
       "      <td>-0.001196</td>\n",
       "      <td>-0.000858</td>\n",
       "      <td>0.000465</td>\n",
       "      <td>0.001538</td>\n",
       "      <td>0.000053</td>\n",
       "      <td>-0.000360</td>\n",
       "      <td>-0.000593</td>\n",
       "    </tr>\n",
       "    <tr>\n",
       "      <th>Difficulty-in-Breathing</th>\n",
       "      <td>-0.000218</td>\n",
       "      <td>0.376820</td>\n",
       "      <td>1.000000</td>\n",
       "      <td>0.405130</td>\n",
       "      <td>-0.258231</td>\n",
       "      <td>-0.000205</td>\n",
       "      <td>-0.000790</td>\n",
       "      <td>-0.001490</td>\n",
       "      <td>-0.001096</td>\n",
       "      <td>0.000354</td>\n",
       "      <td>-0.001327</td>\n",
       "      <td>-0.000040</td>\n",
       "      <td>0.000558</td>\n",
       "      <td>0.000457</td>\n",
       "      <td>0.000249</td>\n",
       "      <td>-0.000556</td>\n",
       "    </tr>\n",
       "    <tr>\n",
       "      <th>Sore-Throat</th>\n",
       "      <td>-0.136407</td>\n",
       "      <td>0.049914</td>\n",
       "      <td>0.405130</td>\n",
       "      <td>1.000000</td>\n",
       "      <td>-0.173894</td>\n",
       "      <td>-0.000288</td>\n",
       "      <td>0.000582</td>\n",
       "      <td>-0.000264</td>\n",
       "      <td>-0.001998</td>\n",
       "      <td>0.000815</td>\n",
       "      <td>-0.001343</td>\n",
       "      <td>0.000227</td>\n",
       "      <td>0.000116</td>\n",
       "      <td>0.000188</td>\n",
       "      <td>0.000973</td>\n",
       "      <td>-0.001895</td>\n",
       "    </tr>\n",
       "    <tr>\n",
       "      <th>None_Sympton</th>\n",
       "      <td>-0.258212</td>\n",
       "      <td>-0.292671</td>\n",
       "      <td>-0.258231</td>\n",
       "      <td>-0.173894</td>\n",
       "      <td>1.000000</td>\n",
       "      <td>-0.000779</td>\n",
       "      <td>-0.000491</td>\n",
       "      <td>0.001755</td>\n",
       "      <td>0.001549</td>\n",
       "      <td>0.001159</td>\n",
       "      <td>0.000481</td>\n",
       "      <td>-0.000587</td>\n",
       "      <td>-0.001908</td>\n",
       "      <td>0.000853</td>\n",
       "      <td>0.003045</td>\n",
       "      <td>-0.000357</td>\n",
       "    </tr>\n",
       "    <tr>\n",
       "      <th>Pains</th>\n",
       "      <td>0.001068</td>\n",
       "      <td>0.000772</td>\n",
       "      <td>-0.000205</td>\n",
       "      <td>-0.000288</td>\n",
       "      <td>-0.000779</td>\n",
       "      <td>1.000000</td>\n",
       "      <td>0.310644</td>\n",
       "      <td>-0.070046</td>\n",
       "      <td>-0.239733</td>\n",
       "      <td>0.000565</td>\n",
       "      <td>-0.002162</td>\n",
       "      <td>0.002244</td>\n",
       "      <td>-0.001389</td>\n",
       "      <td>0.000746</td>\n",
       "      <td>-0.001280</td>\n",
       "      <td>0.001497</td>\n",
       "    </tr>\n",
       "    <tr>\n",
       "      <th>Nasal-Congestion</th>\n",
       "      <td>0.000285</td>\n",
       "      <td>0.000577</td>\n",
       "      <td>-0.000790</td>\n",
       "      <td>0.000582</td>\n",
       "      <td>-0.000491</td>\n",
       "      <td>0.310644</td>\n",
       "      <td>1.000000</td>\n",
       "      <td>0.265959</td>\n",
       "      <td>-0.346419</td>\n",
       "      <td>0.000132</td>\n",
       "      <td>0.000876</td>\n",
       "      <td>0.002460</td>\n",
       "      <td>-0.001640</td>\n",
       "      <td>-0.001830</td>\n",
       "      <td>-0.000233</td>\n",
       "      <td>0.000436</td>\n",
       "    </tr>\n",
       "    <tr>\n",
       "      <th>Runny-Nose</th>\n",
       "      <td>-0.001085</td>\n",
       "      <td>-0.000840</td>\n",
       "      <td>-0.001490</td>\n",
       "      <td>-0.000264</td>\n",
       "      <td>0.001755</td>\n",
       "      <td>-0.070046</td>\n",
       "      <td>0.265959</td>\n",
       "      <td>1.000000</td>\n",
       "      <td>-0.347028</td>\n",
       "      <td>-0.000629</td>\n",
       "      <td>-0.000316</td>\n",
       "      <td>0.000726</td>\n",
       "      <td>-0.000701</td>\n",
       "      <td>0.000922</td>\n",
       "      <td>0.001606</td>\n",
       "      <td>-0.000052</td>\n",
       "    </tr>\n",
       "    <tr>\n",
       "      <th>None_Experiencing</th>\n",
       "      <td>0.001089</td>\n",
       "      <td>-0.001275</td>\n",
       "      <td>-0.001096</td>\n",
       "      <td>-0.001998</td>\n",
       "      <td>0.001549</td>\n",
       "      <td>-0.239733</td>\n",
       "      <td>-0.346419</td>\n",
       "      <td>-0.347028</td>\n",
       "      <td>1.000000</td>\n",
       "      <td>-0.001824</td>\n",
       "      <td>0.002426</td>\n",
       "      <td>-0.001290</td>\n",
       "      <td>-0.000859</td>\n",
       "      <td>0.001543</td>\n",
       "      <td>-0.000704</td>\n",
       "      <td>-0.000291</td>\n",
       "    </tr>\n",
       "    <tr>\n",
       "      <th>Age_0-9</th>\n",
       "      <td>-0.001707</td>\n",
       "      <td>-0.001196</td>\n",
       "      <td>0.000354</td>\n",
       "      <td>0.000815</td>\n",
       "      <td>0.001159</td>\n",
       "      <td>0.000565</td>\n",
       "      <td>0.000132</td>\n",
       "      <td>-0.000629</td>\n",
       "      <td>-0.001824</td>\n",
       "      <td>1.000000</td>\n",
       "      <td>-0.250701</td>\n",
       "      <td>-0.249848</td>\n",
       "      <td>-0.249810</td>\n",
       "      <td>-0.249799</td>\n",
       "      <td>0.001181</td>\n",
       "      <td>-0.001018</td>\n",
       "    </tr>\n",
       "    <tr>\n",
       "      <th>Age_10-19</th>\n",
       "      <td>0.001051</td>\n",
       "      <td>-0.000858</td>\n",
       "      <td>-0.001327</td>\n",
       "      <td>-0.001343</td>\n",
       "      <td>0.000481</td>\n",
       "      <td>-0.002162</td>\n",
       "      <td>0.000876</td>\n",
       "      <td>-0.000316</td>\n",
       "      <td>0.002426</td>\n",
       "      <td>-0.250701</td>\n",
       "      <td>1.000000</td>\n",
       "      <td>-0.250443</td>\n",
       "      <td>-0.250404</td>\n",
       "      <td>-0.250394</td>\n",
       "      <td>-0.000165</td>\n",
       "      <td>0.000071</td>\n",
       "    </tr>\n",
       "    <tr>\n",
       "      <th>Age_20-24</th>\n",
       "      <td>0.000763</td>\n",
       "      <td>0.000465</td>\n",
       "      <td>-0.000040</td>\n",
       "      <td>0.000227</td>\n",
       "      <td>-0.000587</td>\n",
       "      <td>0.002244</td>\n",
       "      <td>0.002460</td>\n",
       "      <td>0.000726</td>\n",
       "      <td>-0.001290</td>\n",
       "      <td>-0.249848</td>\n",
       "      <td>-0.250443</td>\n",
       "      <td>1.000000</td>\n",
       "      <td>-0.249553</td>\n",
       "      <td>-0.249542</td>\n",
       "      <td>0.000568</td>\n",
       "      <td>0.001214</td>\n",
       "    </tr>\n",
       "    <tr>\n",
       "      <th>Age_25-59</th>\n",
       "      <td>-0.000353</td>\n",
       "      <td>0.001538</td>\n",
       "      <td>0.000558</td>\n",
       "      <td>0.000116</td>\n",
       "      <td>-0.001908</td>\n",
       "      <td>-0.001389</td>\n",
       "      <td>-0.001640</td>\n",
       "      <td>-0.000701</td>\n",
       "      <td>-0.000859</td>\n",
       "      <td>-0.249810</td>\n",
       "      <td>-0.250404</td>\n",
       "      <td>-0.249553</td>\n",
       "      <td>1.000000</td>\n",
       "      <td>-0.249503</td>\n",
       "      <td>-0.001283</td>\n",
       "      <td>0.000632</td>\n",
       "    </tr>\n",
       "    <tr>\n",
       "      <th>Age_60+</th>\n",
       "      <td>0.000245</td>\n",
       "      <td>0.000053</td>\n",
       "      <td>0.000457</td>\n",
       "      <td>0.000188</td>\n",
       "      <td>0.000853</td>\n",
       "      <td>0.000746</td>\n",
       "      <td>-0.001830</td>\n",
       "      <td>0.000922</td>\n",
       "      <td>0.001543</td>\n",
       "      <td>-0.249799</td>\n",
       "      <td>-0.250394</td>\n",
       "      <td>-0.249542</td>\n",
       "      <td>-0.249503</td>\n",
       "      <td>1.000000</td>\n",
       "      <td>-0.000302</td>\n",
       "      <td>-0.000898</td>\n",
       "    </tr>\n",
       "    <tr>\n",
       "      <th>Gender_Female</th>\n",
       "      <td>-0.001154</td>\n",
       "      <td>-0.000360</td>\n",
       "      <td>0.000249</td>\n",
       "      <td>0.000973</td>\n",
       "      <td>0.003045</td>\n",
       "      <td>-0.001280</td>\n",
       "      <td>-0.000233</td>\n",
       "      <td>0.001606</td>\n",
       "      <td>-0.000704</td>\n",
       "      <td>0.001181</td>\n",
       "      <td>-0.000165</td>\n",
       "      <td>0.000568</td>\n",
       "      <td>-0.001283</td>\n",
       "      <td>-0.000302</td>\n",
       "      <td>1.000000</td>\n",
       "      <td>-0.500385</td>\n",
       "    </tr>\n",
       "    <tr>\n",
       "      <th>Gender_Male</th>\n",
       "      <td>0.000604</td>\n",
       "      <td>-0.000593</td>\n",
       "      <td>-0.000556</td>\n",
       "      <td>-0.001895</td>\n",
       "      <td>-0.000357</td>\n",
       "      <td>0.001497</td>\n",
       "      <td>0.000436</td>\n",
       "      <td>-0.000052</td>\n",
       "      <td>-0.000291</td>\n",
       "      <td>-0.001018</td>\n",
       "      <td>0.000071</td>\n",
       "      <td>0.001214</td>\n",
       "      <td>0.000632</td>\n",
       "      <td>-0.000898</td>\n",
       "      <td>-0.500385</td>\n",
       "      <td>1.000000</td>\n",
       "    </tr>\n",
       "  </tbody>\n",
       "</table>\n",
       "</div>"
      ],
      "text/plain": [
       "                         Tiredness  Dry-Cough  Difficulty-in-Breathing  \\\n",
       "Tiredness                 1.000000   0.378374                -0.000218   \n",
       "Dry-Cough                 0.378374   1.000000                 0.376820   \n",
       "Difficulty-in-Breathing  -0.000218   0.376820                 1.000000   \n",
       "Sore-Throat              -0.136407   0.049914                 0.405130   \n",
       "None_Sympton             -0.258212  -0.292671                -0.258231   \n",
       "Pains                     0.001068   0.000772                -0.000205   \n",
       "Nasal-Congestion          0.000285   0.000577                -0.000790   \n",
       "Runny-Nose               -0.001085  -0.000840                -0.001490   \n",
       "None_Experiencing         0.001089  -0.001275                -0.001096   \n",
       "Age_0-9                  -0.001707  -0.001196                 0.000354   \n",
       "Age_10-19                 0.001051  -0.000858                -0.001327   \n",
       "Age_20-24                 0.000763   0.000465                -0.000040   \n",
       "Age_25-59                -0.000353   0.001538                 0.000558   \n",
       "Age_60+                   0.000245   0.000053                 0.000457   \n",
       "Gender_Female            -0.001154  -0.000360                 0.000249   \n",
       "Gender_Male               0.000604  -0.000593                -0.000556   \n",
       "\n",
       "                         Sore-Throat  None_Sympton     Pains  \\\n",
       "Tiredness                  -0.136407     -0.258212  0.001068   \n",
       "Dry-Cough                   0.049914     -0.292671  0.000772   \n",
       "Difficulty-in-Breathing     0.405130     -0.258231 -0.000205   \n",
       "Sore-Throat                 1.000000     -0.173894 -0.000288   \n",
       "None_Sympton               -0.173894      1.000000 -0.000779   \n",
       "Pains                      -0.000288     -0.000779  1.000000   \n",
       "Nasal-Congestion            0.000582     -0.000491  0.310644   \n",
       "Runny-Nose                 -0.000264      0.001755 -0.070046   \n",
       "None_Experiencing          -0.001998      0.001549 -0.239733   \n",
       "Age_0-9                     0.000815      0.001159  0.000565   \n",
       "Age_10-19                  -0.001343      0.000481 -0.002162   \n",
       "Age_20-24                   0.000227     -0.000587  0.002244   \n",
       "Age_25-59                   0.000116     -0.001908 -0.001389   \n",
       "Age_60+                     0.000188      0.000853  0.000746   \n",
       "Gender_Female               0.000973      0.003045 -0.001280   \n",
       "Gender_Male                -0.001895     -0.000357  0.001497   \n",
       "\n",
       "                         Nasal-Congestion  Runny-Nose  None_Experiencing  \\\n",
       "Tiredness                        0.000285   -0.001085           0.001089   \n",
       "Dry-Cough                        0.000577   -0.000840          -0.001275   \n",
       "Difficulty-in-Breathing         -0.000790   -0.001490          -0.001096   \n",
       "Sore-Throat                      0.000582   -0.000264          -0.001998   \n",
       "None_Sympton                    -0.000491    0.001755           0.001549   \n",
       "Pains                            0.310644   -0.070046          -0.239733   \n",
       "Nasal-Congestion                 1.000000    0.265959          -0.346419   \n",
       "Runny-Nose                       0.265959    1.000000          -0.347028   \n",
       "None_Experiencing               -0.346419   -0.347028           1.000000   \n",
       "Age_0-9                          0.000132   -0.000629          -0.001824   \n",
       "Age_10-19                        0.000876   -0.000316           0.002426   \n",
       "Age_20-24                        0.002460    0.000726          -0.001290   \n",
       "Age_25-59                       -0.001640   -0.000701          -0.000859   \n",
       "Age_60+                         -0.001830    0.000922           0.001543   \n",
       "Gender_Female                   -0.000233    0.001606          -0.000704   \n",
       "Gender_Male                      0.000436   -0.000052          -0.000291   \n",
       "\n",
       "                          Age_0-9  Age_10-19  Age_20-24  Age_25-59   Age_60+  \\\n",
       "Tiredness               -0.001707   0.001051   0.000763  -0.000353  0.000245   \n",
       "Dry-Cough               -0.001196  -0.000858   0.000465   0.001538  0.000053   \n",
       "Difficulty-in-Breathing  0.000354  -0.001327  -0.000040   0.000558  0.000457   \n",
       "Sore-Throat              0.000815  -0.001343   0.000227   0.000116  0.000188   \n",
       "None_Sympton             0.001159   0.000481  -0.000587  -0.001908  0.000853   \n",
       "Pains                    0.000565  -0.002162   0.002244  -0.001389  0.000746   \n",
       "Nasal-Congestion         0.000132   0.000876   0.002460  -0.001640 -0.001830   \n",
       "Runny-Nose              -0.000629  -0.000316   0.000726  -0.000701  0.000922   \n",
       "None_Experiencing       -0.001824   0.002426  -0.001290  -0.000859  0.001543   \n",
       "Age_0-9                  1.000000  -0.250701  -0.249848  -0.249810 -0.249799   \n",
       "Age_10-19               -0.250701   1.000000  -0.250443  -0.250404 -0.250394   \n",
       "Age_20-24               -0.249848  -0.250443   1.000000  -0.249553 -0.249542   \n",
       "Age_25-59               -0.249810  -0.250404  -0.249553   1.000000 -0.249503   \n",
       "Age_60+                 -0.249799  -0.250394  -0.249542  -0.249503  1.000000   \n",
       "Gender_Female            0.001181  -0.000165   0.000568  -0.001283 -0.000302   \n",
       "Gender_Male             -0.001018   0.000071   0.001214   0.000632 -0.000898   \n",
       "\n",
       "                         Gender_Female  Gender_Male  \n",
       "Tiredness                    -0.001154     0.000604  \n",
       "Dry-Cough                    -0.000360    -0.000593  \n",
       "Difficulty-in-Breathing       0.000249    -0.000556  \n",
       "Sore-Throat                   0.000973    -0.001895  \n",
       "None_Sympton                  0.003045    -0.000357  \n",
       "Pains                        -0.001280     0.001497  \n",
       "Nasal-Congestion             -0.000233     0.000436  \n",
       "Runny-Nose                    0.001606    -0.000052  \n",
       "None_Experiencing            -0.000704    -0.000291  \n",
       "Age_0-9                       0.001181    -0.001018  \n",
       "Age_10-19                    -0.000165     0.000071  \n",
       "Age_20-24                     0.000568     0.001214  \n",
       "Age_25-59                    -0.001283     0.000632  \n",
       "Age_60+                      -0.000302    -0.000898  \n",
       "Gender_Female                 1.000000    -0.500385  \n",
       "Gender_Male                  -0.500385     1.000000  "
      ]
     },
     "execution_count": 11,
     "metadata": {},
     "output_type": "execute_result"
    }
   ],
   "source": [
    "x_train.corr()"
   ]
  },
  {
   "cell_type": "code",
   "execution_count": 12,
   "id": "3a07c2fe",
   "metadata": {},
   "outputs": [
    {
     "name": "stdout",
     "output_type": "stream",
     "text": [
      "<class 'pandas.core.frame.DataFrame'>\n",
      "Int64Index: 221760 entries, 214190 to 147960\n",
      "Data columns (total 16 columns):\n",
      " #   Column                   Non-Null Count   Dtype\n",
      "---  ------                   --------------   -----\n",
      " 0   Tiredness                221760 non-null  int64\n",
      " 1   Dry-Cough                221760 non-null  int64\n",
      " 2   Difficulty-in-Breathing  221760 non-null  int64\n",
      " 3   Sore-Throat              221760 non-null  int64\n",
      " 4   None_Sympton             221760 non-null  int64\n",
      " 5   Pains                    221760 non-null  int64\n",
      " 6   Nasal-Congestion         221760 non-null  int64\n",
      " 7   Runny-Nose               221760 non-null  int64\n",
      " 8   None_Experiencing        221760 non-null  int64\n",
      " 9   Age_0-9                  221760 non-null  int64\n",
      " 10  Age_10-19                221760 non-null  int64\n",
      " 11  Age_20-24                221760 non-null  int64\n",
      " 12  Age_25-59                221760 non-null  int64\n",
      " 13  Age_60+                  221760 non-null  int64\n",
      " 14  Gender_Female            221760 non-null  int64\n",
      " 15  Gender_Male              221760 non-null  int64\n",
      "dtypes: int64(16)\n",
      "memory usage: 28.8 MB\n"
     ]
    }
   ],
   "source": [
    "x_train.info()"
   ]
  },
  {
   "cell_type": "code",
   "execution_count": 13,
   "id": "c66666e6",
   "metadata": {},
   "outputs": [],
   "source": [
    "from sklearn.linear_model import LogisticRegression\n",
    "regr = LogisticRegression()"
   ]
  },
  {
   "cell_type": "code",
   "execution_count": 18,
   "id": "49c2badb",
   "metadata": {},
   "outputs": [
    {
     "name": "stderr",
     "output_type": "stream",
     "text": [
      "c:\\users\\kodaks\\appdata\\local\\programs\\python\\python39\\lib\\site-packages\\sklearn\\utils\\validation.py:1141: DataConversionWarning: A column-vector y was passed when a 1d array was expected. Please change the shape of y to (n_samples, ), for example using ravel().\n",
      "  y = column_or_1d(y, warn=True)\n"
     ]
    },
    {
     "data": {
      "text/html": [
       "<style>#sk-container-id-1 {color: black;background-color: white;}#sk-container-id-1 pre{padding: 0;}#sk-container-id-1 div.sk-toggleable {background-color: white;}#sk-container-id-1 label.sk-toggleable__label {cursor: pointer;display: block;width: 100%;margin-bottom: 0;padding: 0.3em;box-sizing: border-box;text-align: center;}#sk-container-id-1 label.sk-toggleable__label-arrow:before {content: \"▸\";float: left;margin-right: 0.25em;color: #696969;}#sk-container-id-1 label.sk-toggleable__label-arrow:hover:before {color: black;}#sk-container-id-1 div.sk-estimator:hover label.sk-toggleable__label-arrow:before {color: black;}#sk-container-id-1 div.sk-toggleable__content {max-height: 0;max-width: 0;overflow: hidden;text-align: left;background-color: #f0f8ff;}#sk-container-id-1 div.sk-toggleable__content pre {margin: 0.2em;color: black;border-radius: 0.25em;background-color: #f0f8ff;}#sk-container-id-1 input.sk-toggleable__control:checked~div.sk-toggleable__content {max-height: 200px;max-width: 100%;overflow: auto;}#sk-container-id-1 input.sk-toggleable__control:checked~label.sk-toggleable__label-arrow:before {content: \"▾\";}#sk-container-id-1 div.sk-estimator input.sk-toggleable__control:checked~label.sk-toggleable__label {background-color: #d4ebff;}#sk-container-id-1 div.sk-label input.sk-toggleable__control:checked~label.sk-toggleable__label {background-color: #d4ebff;}#sk-container-id-1 input.sk-hidden--visually {border: 0;clip: rect(1px 1px 1px 1px);clip: rect(1px, 1px, 1px, 1px);height: 1px;margin: -1px;overflow: hidden;padding: 0;position: absolute;width: 1px;}#sk-container-id-1 div.sk-estimator {font-family: monospace;background-color: #f0f8ff;border: 1px dotted black;border-radius: 0.25em;box-sizing: border-box;margin-bottom: 0.5em;}#sk-container-id-1 div.sk-estimator:hover {background-color: #d4ebff;}#sk-container-id-1 div.sk-parallel-item::after {content: \"\";width: 100%;border-bottom: 1px solid gray;flex-grow: 1;}#sk-container-id-1 div.sk-label:hover label.sk-toggleable__label {background-color: #d4ebff;}#sk-container-id-1 div.sk-serial::before {content: \"\";position: absolute;border-left: 1px solid gray;box-sizing: border-box;top: 0;bottom: 0;left: 50%;z-index: 0;}#sk-container-id-1 div.sk-serial {display: flex;flex-direction: column;align-items: center;background-color: white;padding-right: 0.2em;padding-left: 0.2em;position: relative;}#sk-container-id-1 div.sk-item {position: relative;z-index: 1;}#sk-container-id-1 div.sk-parallel {display: flex;align-items: stretch;justify-content: center;background-color: white;position: relative;}#sk-container-id-1 div.sk-item::before, #sk-container-id-1 div.sk-parallel-item::before {content: \"\";position: absolute;border-left: 1px solid gray;box-sizing: border-box;top: 0;bottom: 0;left: 50%;z-index: -1;}#sk-container-id-1 div.sk-parallel-item {display: flex;flex-direction: column;z-index: 1;position: relative;background-color: white;}#sk-container-id-1 div.sk-parallel-item:first-child::after {align-self: flex-end;width: 50%;}#sk-container-id-1 div.sk-parallel-item:last-child::after {align-self: flex-start;width: 50%;}#sk-container-id-1 div.sk-parallel-item:only-child::after {width: 0;}#sk-container-id-1 div.sk-dashed-wrapped {border: 1px dashed gray;margin: 0 0.4em 0.5em 0.4em;box-sizing: border-box;padding-bottom: 0.4em;background-color: white;}#sk-container-id-1 div.sk-label label {font-family: monospace;font-weight: bold;display: inline-block;line-height: 1.2em;}#sk-container-id-1 div.sk-label-container {text-align: center;}#sk-container-id-1 div.sk-container {/* jupyter's `normalize.less` sets `[hidden] { display: none; }` but bootstrap.min.css set `[hidden] { display: none !important; }` so we also need the `!important` here to be able to override the default hidden behavior on the sphinx rendered scikit-learn.org. See: https://github.com/scikit-learn/scikit-learn/issues/21755 */display: inline-block !important;position: relative;}#sk-container-id-1 div.sk-text-repr-fallback {display: none;}</style><div id=\"sk-container-id-1\" class=\"sk-top-container\"><div class=\"sk-text-repr-fallback\"><pre>LogisticRegression()</pre><b>In a Jupyter environment, please rerun this cell to show the HTML representation or trust the notebook. <br />On GitHub, the HTML representation is unable to render, please try loading this page with nbviewer.org.</b></div><div class=\"sk-container\" hidden><div class=\"sk-item\"><div class=\"sk-estimator sk-toggleable\"><input class=\"sk-toggleable__control sk-hidden--visually\" id=\"sk-estimator-id-1\" type=\"checkbox\" checked><label for=\"sk-estimator-id-1\" class=\"sk-toggleable__label sk-toggleable__label-arrow\">LogisticRegression</label><div class=\"sk-toggleable__content\"><pre>LogisticRegression()</pre></div></div></div></div></div>"
      ],
      "text/plain": [
       "LogisticRegression()"
      ]
     },
     "execution_count": 18,
     "metadata": {},
     "output_type": "execute_result"
    }
   ],
   "source": [
    "regr.fit(x_train,y_train)"
   ]
  },
  {
   "cell_type": "code",
   "execution_count": 19,
   "id": "853a68e2",
   "metadata": {},
   "outputs": [
    {
     "data": {
      "text/plain": [
       "(95040,)"
      ]
     },
     "execution_count": 19,
     "metadata": {},
     "output_type": "execute_result"
    }
   ],
   "source": [
    "predictor = regr.predict(x_test)\n",
    "predictor.shape\n",
    "    "
   ]
  },
  {
   "cell_type": "code",
   "execution_count": 20,
   "id": "64d627d4",
   "metadata": {},
   "outputs": [
    {
     "data": {
      "text/plain": [
       "0.7500526094276094"
      ]
     },
     "execution_count": 20,
     "metadata": {},
     "output_type": "execute_result"
    }
   ],
   "source": [
    "regr.score(x_test, y_test)"
   ]
  },
  {
   "cell_type": "code",
   "execution_count": 21,
   "id": "4047da5a",
   "metadata": {},
   "outputs": [
    {
     "data": {
      "text/plain": [
       "0.7499774531024531"
      ]
     },
     "execution_count": 21,
     "metadata": {},
     "output_type": "execute_result"
    }
   ],
   "source": [
    "regr.score(x_train, y_train)"
   ]
  },
  {
   "cell_type": "code",
   "execution_count": 22,
   "id": "e178f6b8",
   "metadata": {},
   "outputs": [
    {
     "data": {
      "text/plain": [
       "array([0, 0, 0, ..., 0, 0, 0], dtype=int64)"
      ]
     },
     "execution_count": 22,
     "metadata": {},
     "output_type": "execute_result"
    }
   ],
   "source": [
    "predictor"
   ]
  },
  {
   "cell_type": "code",
   "execution_count": 23,
   "id": "7a0111a0",
   "metadata": {},
   "outputs": [
    {
     "data": {
      "text/plain": [
       "0    237600\n",
       "1     79200\n",
       "Name: Severity_None, dtype: int64"
      ]
     },
     "execution_count": 23,
     "metadata": {},
     "output_type": "execute_result"
    }
   ],
   "source": [
    "df.Severity_None.value_counts()"
   ]
  },
  {
   "cell_type": "code",
   "execution_count": 24,
   "id": "faf65286",
   "metadata": {},
   "outputs": [
    {
     "data": {
      "text/plain": [
       "Severity_None\n",
       "0                166315\n",
       "1                 55445\n",
       "dtype: int64"
      ]
     },
     "execution_count": 24,
     "metadata": {},
     "output_type": "execute_result"
    }
   ],
   "source": [
    "y_train.value_counts()"
   ]
  },
  {
   "cell_type": "code",
   "execution_count": null,
   "id": "3d3eb062",
   "metadata": {},
   "outputs": [],
   "source": []
  }
 ],
 "metadata": {
  "kernelspec": {
   "display_name": "Python 3 (ipykernel)",
   "language": "python",
   "name": "python3"
  },
  "language_info": {
   "codemirror_mode": {
    "name": "ipython",
    "version": 3
   },
   "file_extension": ".py",
   "mimetype": "text/x-python",
   "name": "python",
   "nbconvert_exporter": "python",
   "pygments_lexer": "ipython3",
   "version": "3.9.5"
  }
 },
 "nbformat": 4,
 "nbformat_minor": 5
}
